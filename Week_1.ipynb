{
 "cells": [
  {
   "cell_type": "markdown",
   "metadata": {},
   "source": [
    "# Week 1 handin"
   ]
  },
  {
   "cell_type": "markdown",
   "metadata": {},
   "source": [
    "## 01 Assignment\n",
    "1. Create 5 list comprehensions to solve the following 5 problems:\n",
    "  1. Iterate a list of names to return a list of the names starting with H\n",
    "  2. In one line create a list of the numbers 1-100 to the power of 3\n",
    "  3. Iterate a list of names to create a list of tuples where the tuples first value is the length of the name and the second is the name\n",
    "  4. Iterate over each character in a string and get only those that are nummeric\n",
    "  5. Using only a list comprehension wrapped in set() get all possible combination from throwing 2 dice (hint use 2 for loops in a single list comprehension)\n",
    "\n",
    "2. Create 2 dictionary comprehensions to solve the following:\n",
    "  1. Iterate a list of names and create a dictionary where key is the name and value is the length of the name\n",
    "  2. Iterate a list of numbers and create a dictionary with {key:value} being {number:squareroot_of_number}\n",
    "\n",
    "3. Extra assignment (This one goes beyond what is covered in the course notebooks. So only do it if you want an extra challenge).\n",
    "  - Progammatically using loops create a small program to produce a dictionary with all the 2 dice throw combinations as keys and their likelyhood in percent as values"
   ]
  },
  {
   "cell_type": "markdown",
   "metadata": {},
   "source": [
    "## 02 Status\n",
    "Here is a status on the handin. How far you got. What is implemented and what is not\n",
    "\n",
    "Jeg har lavet assignment 1.(a,b,c,d,e), og 2.(a,b) \n",
    "Jeg har prøvet at lave assignment 3, men der er lige nogle problemer med den matematik jeg har lavet og den måde man udregner sandsynlighed med 2 terninger som ikke passer helt"
   ]
  },
  {
   "cell_type": "markdown",
   "metadata": {},
   "source": [
    "## 03 Solution part 1"
   ]
  },
  {
   "cell_type": "code",
   "execution_count": 5,
   "metadata": {},
   "outputs": [
    {
     "name": "stdout",
     "output_type": "stream",
     "text": [
      "['Henrik', 'Hanne']\n"
     ]
    }
   ],
   "source": [
    "# 1.1\n",
    "names = [\"Henrik\", \"Hanne\", \"John\", \"Lise\", \"Andreas\"]\n",
    "names_with_h = [name for name in names if \"H\" in name]\n",
    "print(names_with_h)"
   ]
  },
  {
   "cell_type": "code",
   "execution_count": 13,
   "metadata": {
    "scrolled": true
   },
   "outputs": [
    {
     "data": {
      "text/plain": [
       "[1,\n",
       " 8,\n",
       " 27,\n",
       " 64,\n",
       " 125,\n",
       " 216,\n",
       " 343,\n",
       " 512,\n",
       " 729,\n",
       " 1000,\n",
       " 1331,\n",
       " 1728,\n",
       " 2197,\n",
       " 2744,\n",
       " 3375,\n",
       " 4096,\n",
       " 4913,\n",
       " 5832,\n",
       " 6859,\n",
       " 8000,\n",
       " 9261,\n",
       " 10648,\n",
       " 12167,\n",
       " 13824,\n",
       " 15625,\n",
       " 17576,\n",
       " 19683,\n",
       " 21952,\n",
       " 24389,\n",
       " 27000,\n",
       " 29791,\n",
       " 32768,\n",
       " 35937,\n",
       " 39304,\n",
       " 42875,\n",
       " 46656,\n",
       " 50653,\n",
       " 54872,\n",
       " 59319,\n",
       " 64000,\n",
       " 68921,\n",
       " 74088,\n",
       " 79507,\n",
       " 85184,\n",
       " 91125,\n",
       " 97336,\n",
       " 103823,\n",
       " 110592,\n",
       " 117649,\n",
       " 125000,\n",
       " 132651,\n",
       " 140608,\n",
       " 148877,\n",
       " 157464,\n",
       " 166375,\n",
       " 175616,\n",
       " 185193,\n",
       " 195112,\n",
       " 205379,\n",
       " 216000,\n",
       " 226981,\n",
       " 238328,\n",
       " 250047,\n",
       " 262144,\n",
       " 274625,\n",
       " 287496,\n",
       " 300763,\n",
       " 314432,\n",
       " 328509,\n",
       " 343000,\n",
       " 357911,\n",
       " 373248,\n",
       " 389017,\n",
       " 405224,\n",
       " 421875,\n",
       " 438976,\n",
       " 456533,\n",
       " 474552,\n",
       " 493039,\n",
       " 512000,\n",
       " 531441,\n",
       " 551368,\n",
       " 571787,\n",
       " 592704,\n",
       " 614125,\n",
       " 636056,\n",
       " 658503,\n",
       " 681472,\n",
       " 704969,\n",
       " 729000,\n",
       " 753571,\n",
       " 778688,\n",
       " 804357,\n",
       " 830584,\n",
       " 857375,\n",
       " 884736,\n",
       " 912673,\n",
       " 941192,\n",
       " 970299,\n",
       " 1000000]"
      ]
     },
     "execution_count": 13,
     "metadata": {},
     "output_type": "execute_result"
    }
   ],
   "source": [
    "# 1.2\n",
    "list(number**3 for number in range(1,100+1))"
   ]
  },
  {
   "cell_type": "code",
   "execution_count": 17,
   "metadata": {},
   "outputs": [
    {
     "name": "stdout",
     "output_type": "stream",
     "text": [
      "[(6, 'Henrik'), (5, 'Hanne'), (4, 'John'), (4, 'Lise'), (7, 'Andreas')]\n"
     ]
    }
   ],
   "source": [
    "# 1.3\n",
    "my_tuple = ()\n",
    "my_tuple=list((len(name), name) for name in names)\n",
    "print(my_tuple)"
   ]
  },
  {
   "cell_type": "code",
   "execution_count": 33,
   "metadata": {},
   "outputs": [
    {
     "data": {
      "text/plain": [
       "['3', '5', '4', '3', '5', '0', '9', '9', '3', '4', '8']"
      ]
     },
     "execution_count": 33,
     "metadata": {},
     "output_type": "execute_result"
    }
   ],
   "source": [
    "# 1.4\n",
    "random_string = \"asdfrew35t43509esdfvkmpso9348q\"\n",
    "number_list = list(char for char in random_string if char.isnumeric())\n",
    "number_list"
   ]
  },
  {
   "cell_type": "code",
   "execution_count": 38,
   "metadata": {
    "scrolled": true
   },
   "outputs": [
    {
     "name": "stdout",
     "output_type": "stream",
     "text": [
      "{'5 6', '3 3', '4 4', '6 6', '1 3', '2 3', '1 1', '4 6', '3 4', '3 5', '2 5', '1 5', '1 2', '2 6', '1 4', '5 5', '1 6', '2 2', '3 6', '4 5', '2 4'}\n"
     ]
    }
   ],
   "source": [
    "# 1.5\n",
    "dice1 = [1,2,3,4,5,6]\n",
    "dice2 = [1,2,3,4,5,6]\n",
    "combi = set([str(d1) +\" \"+ str(d2) for d1 in dice1 for d2 in dice2 if d2 >= d1])\n",
    "print(combi) "
   ]
  },
  {
   "cell_type": "markdown",
   "metadata": {},
   "source": [
    "## 04 Solution part 2"
   ]
  },
  {
   "cell_type": "code",
   "execution_count": 60,
   "metadata": {},
   "outputs": [
    {
     "name": "stdout",
     "output_type": "stream",
     "text": [
      "{'Mads': 4, 'Albert': 6, 'Marc': 4, 'Marcus': 6}\n"
     ]
    },
    {
     "data": {
      "text/plain": [
       "6"
      ]
     },
     "execution_count": 60,
     "metadata": {},
     "output_type": "execute_result"
    }
   ],
   "source": [
    "# 2.1\n",
    "names_to_dict = [\"Mads\", \"Albert\", \"Marc\", \"Marcus\"]\n",
    "names_in_dict = {name: len(name) for name in names_to_dict}\n",
    "print(names_in_dict)\n",
    "names_in_dict[\"Albert\"]"
   ]
  },
  {
   "cell_type": "code",
   "execution_count": 66,
   "metadata": {},
   "outputs": [
    {
     "name": "stdout",
     "output_type": "stream",
     "text": [
      "{1: 1.0, 4: 2.0, 8: 2.8284271247461903, 16: 4.0, 32: 5.656854249492381, 64: 8.0}\n"
     ]
    }
   ],
   "source": [
    "# 2.2\n",
    "import math\n",
    "numbers_to_dict = [1,4,8,16,32,64]\n",
    "numbers_in_dict = {num:math.sqrt(num) for num in numbers_to_dict}\n",
    "print(numbers_in_dict)"
   ]
  },
  {
   "cell_type": "markdown",
   "metadata": {},
   "source": [
    "## 05 Solution part 3"
   ]
  },
  {
   "cell_type": "code",
   "execution_count": 44,
   "metadata": {},
   "outputs": [
    {
     "data": {
      "text/plain": [
       "{'1 1': 2.7777777777777777,\n",
       " '1 2': 2.7777777777777777,\n",
       " '1 3': 2.7777777777777777,\n",
       " '1 4': 2.7777777777777777,\n",
       " '1 5': 2.7777777777777777,\n",
       " '1 6': 2.7777777777777777,\n",
       " '2 2': 2.7777777777777777,\n",
       " '2 3': 2.7777777777777777,\n",
       " '2 4': 2.7777777777777777,\n",
       " '2 5': 2.7777777777777777,\n",
       " '2 6': 2.7777777777777777,\n",
       " '3 3': 2.7777777777777777,\n",
       " '3 4': 2.7777777777777777,\n",
       " '3 5': 2.7777777777777777,\n",
       " '3 6': 2.7777777777777777,\n",
       " '4 4': 2.7777777777777777,\n",
       " '4 5': 2.7777777777777777,\n",
       " '4 6': 2.7777777777777777,\n",
       " '5 5': 2.7777777777777777,\n",
       " '5 6': 2.7777777777777777,\n",
       " '6 6': 2.7777777777777777}"
      ]
     },
     "execution_count": 44,
     "metadata": {},
     "output_type": "execute_result"
    }
   ],
   "source": [
    "dice1 = [1,2,3,4,5,6]\n",
    "dice2 = [1,2,3,4,5,6]\n",
    "dice_dict = {str(d1) +\" \"+ str(d2): ((d1/d1)/len(dice1) * (d2/d2)/len(dice2))*100 for d1 in dice1 for d2 in dice2 if d2 >= d1}\n",
    "dice_dict"
   ]
  }
 ],
 "metadata": {
  "kernelspec": {
   "display_name": "Python 3",
   "language": "python",
   "name": "python3"
  },
  "language_info": {
   "codemirror_mode": {
    "name": "ipython",
    "version": 3
   },
   "file_extension": ".py",
   "mimetype": "text/x-python",
   "name": "python",
   "nbconvert_exporter": "python",
   "pygments_lexer": "ipython3",
   "version": "3.7.6"
  }
 },
 "nbformat": 4,
 "nbformat_minor": 4
}
