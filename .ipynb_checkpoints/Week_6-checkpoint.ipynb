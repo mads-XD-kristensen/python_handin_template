{
 "cells": [
  {
   "cell_type": "markdown",
   "metadata": {},
   "source": [
    "# Week 6 handin"
   ]
  },
  {
   "cell_type": "markdown",
   "metadata": {},
   "source": [
    "## 01 Assignment\n",
    "### Ex 1\n",
    "Create a module containing a class with the following methods:\n",
    "1. __init__(self, url_list)\n",
    "2. download(url,filename) raises NotFoundException when url returns 404\n",
    "3. multi_download() uses threads to download multiple urls as text and stores filenames as a property\n",
    "4. __iter__() returns an iterator\n",
    "5. __next__() returns the next filename (and stops when there are no more)\n",
    "6. urllist_generator() returns a generator to loop through the urls\n",
    "7. avg_vowels(text) - a rough estimate on readability returns average number of vowels in the words of the text\n",
    "8. hardest_read() returns the filename of the text with the highest vowel score (use all the cpu cores on the computer for this work.\n",
    "\n",
    "### Ex 2\n",
    "Create a notebook and import your module from above\n",
    "1. Find 10 books on https://www.gutenberg.org/browse/scores/top and download them using an object of the class you just created before\n",
    "2. Test the different methods of your class\n",
    "3. Make a bar plot with a sorted list of books on x-axis and avg vowels on y-axis"
   ]
  },
  {
   "cell_type": "markdown",
   "metadata": {},
   "source": [
    "## 02 Status\n",
    "Jeg har tested de forskellige metoder/functioner men har ikke lavet et bar plot"
   ]
  },
  {
   "cell_type": "markdown",
   "metadata": {},
   "source": [
    "### tjek \"modules/week_6_handin.py\" for part 1\n",
    "## 03 Solution part 2 "
   ]
  },
  {
   "cell_type": "code",
   "execution_count": 1,
   "metadata": {},
   "outputs": [],
   "source": [
    "from modules.week_6_handin import Week6 as w6"
   ]
  },
  {
   "cell_type": "code",
   "execution_count": 2,
   "metadata": {},
   "outputs": [
    {
     "name": "stdout",
     "output_type": "stream",
     "text": [
      "downloading...\n",
      "download done\n",
      "filepath:  ('./output_data/84-0.txt', <http.client.HTTPMessage object at 0x7f17e8c81a10>)\n"
     ]
    },
    {
     "data": {
      "text/plain": [
       "'84-0.txt'"
      ]
     },
     "execution_count": 2,
     "metadata": {},
     "output_type": "execute_result"
    }
   ],
   "source": [
    "# tester download\n",
    "w6.download(\"https://www.gutenberg.org/files/84/84-0.txt\")"
   ]
  },
  {
   "cell_type": "code",
   "execution_count": 3,
   "metadata": {
    "scrolled": true
   },
   "outputs": [
    {
     "name": "stdout",
     "output_type": "stream",
     "text": [
      "downloading...\n",
      "downloading...\n",
      "downloading...\n",
      "download done\n",
      "filepath:  ('./output_data/1080-0.txt', <http.client.HTTPMessage object at 0x7f17e87eb610>)\n",
      "download done\n",
      "filepath:  ('./output_data/64317-0.txt', <http.client.HTTPMessage object at 0x7f17e87eb250>)\n",
      "download done\n",
      "filepath:  ('./output_data/1342-0.txt', <http.client.HTTPMessage object at 0x7f17e87eb4d0>)\n"
     ]
    },
    {
     "data": {
      "text/plain": [
       "['1342-0.txt', '64317-0.txt', '1080-0.txt']"
      ]
     },
     "execution_count": 3,
     "metadata": {},
     "output_type": "execute_result"
    }
   ],
   "source": [
    "# tester multi download\n",
    "to_download = [\"https://www.gutenberg.org/files/1342/1342-0.txt\",\"https://www.gutenberg.org/files/64317/64317-0.txt\", \"https://www.gutenberg.org/files/1080/1080-0.txt\"]\n",
    "w6.multi_download(w6.download, to_download)"
   ]
  },
  {
   "cell_type": "code",
   "execution_count": 4,
   "metadata": {},
   "outputs": [
    {
     "data": {
      "text/plain": [
       "3.1118083326242947"
      ]
     },
     "execution_count": 4,
     "metadata": {},
     "output_type": "execute_result"
    }
   ],
   "source": [
    "# tester average vovels\n",
    "w6.avg_vowels(\"./output_data/84-0.txt\")"
   ]
  },
  {
   "cell_type": "code",
   "execution_count": 5,
   "metadata": {},
   "outputs": [
    {
     "name": "stdout",
     "output_type": "stream",
     "text": [
      "downloading...downloading...\n",
      "downloading...\n",
      "\n",
      "download done\n",
      "filepath:  ('./output_data/1080-0.txt', <http.client.HTTPMessage object at 0x7f17e8715390>)\n",
      "download done\n",
      "filepath:  ('./output_data/64317-0.txt', <http.client.HTTPMessage object at 0x7f17e87e4d10>)\n",
      "download done\n",
      "filepath:  ('./output_data/1342-0.txt', <http.client.HTTPMessage object at 0x7f17e87eb2d0>)\n",
      "den sværeste bog i listen er:  (3.478937100571813, './output_data/1342-0.txt')\n"
     ]
    }
   ],
   "source": [
    "# tester hardest read\n",
    "books = w6([\"https://www.gutenberg.org/files/1342/1342-0.txt\",\"https://www.gutenberg.org/files/64317/64317-0.txt\", \"https://www.gutenberg.org/files/1080/1080-0.txt\"])\n",
    "hardest_book = books.hardest_read()\n",
    "print('den sværeste bog i listen er: ', hardest_book)"
   ]
  }
 ],
 "metadata": {
  "kernelspec": {
   "display_name": "Python 3",
   "language": "python",
   "name": "python3"
  },
  "language_info": {
   "codemirror_mode": {
    "name": "ipython",
    "version": 3
   },
   "file_extension": ".py",
   "mimetype": "text/x-python",
   "name": "python",
   "nbconvert_exporter": "python",
   "pygments_lexer": "ipython3",
   "version": "3.7.6"
  }
 },
 "nbformat": 4,
 "nbformat_minor": 4
}
