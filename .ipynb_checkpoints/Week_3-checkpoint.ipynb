{
 "cells": [
  {
   "cell_type": "markdown",
   "metadata": {},
   "source": [
    "# Week 3 handin"
   ]
  },
  {
   "cell_type": "markdown",
   "metadata": {},
   "source": [
    "## 01 Assignment\n",
    "## Ex 1 Classes\n",
    "1. Create 3 classes: Student, DataSheet and Course\n",
    "2. A student has a data_sheet and a data_sheet has multiple courses in particular order\n",
    "3. Each course has name, classroom, teacher, ETCS and optional grade if course is taken.\n",
    "4. In Student create __init__() so that a Student can be initiated with name, gender, data_sheet and image_url\n",
    "5. In DataSheet create a method to get_grades_as_list()\n",
    "6. In student create a method: get_avg_grade()\n",
    "7. Create a function that can generate n number of students with random: name, gender, courses (from a fixed list of course names), grades, img_url\n",
    "   1. Let the function write the result to a csv file with format stud_name, course_name, teacher, ects, classroom, grade, img_url\n",
    "7. Read student data into a list of Students from a csv file: \n",
    "   1. loop through the list and print each student with name, img_url and avg_grade.\n",
    "   2. sort the list by avg_grade\n",
    "   3. create a bar chart with student_name on x and avg_grade on y-axis\n",
    "8. Make a method on Student class that can show progression of the study in % (add up ECTS from all passed courses divided by total of 150 total points (equivalent to 5 semesters))\n",
    "9. Show a bar chart of distribution of study progression on x-axis and number of students in each category on y-axis. (e.g. make 10 categories from 0-100%)\n",
    "\n",
    "Extra: Make the Datasheet class iterable so that next(data_sheet) will return the next course in the list\n",
    "\n",
    "## Ex 2 Exceptions (extra)\n",
    "1. Create a function that can take a list of students and return the 3 students closest to completing their study.\n",
    "2. If list is shorter than 3 raise your own custom exception (NotEnoughStudentsException)\n",
    "3. Create another function that can create a csv file with 3 students closest to completion\n",
    "   1. If an exception is raised write an appropriate message to the file\n",
    "\n",
    "## Ex 3 Plotting (extra)\n",
    "1. Create a function that can take a list of students and show a pie chart of how students are distributed in ECTS percentage categories (10%, 20%, ...)\n",
    "2. create a function that can take a list of students and show how many students have taken each course (bar chart)\n",
    "   1. create a method on student that can return a list of courses\n",
    "3. make the figure show males and females in different colors for each course (display 2 datasets in same figure)\n"
   ]
  },
  {
   "cell_type": "markdown",
   "metadata": {},
   "source": [
    "## 02 Status\n",
    "opgave 1 - 7 er lavet, kom igang med opgaven lidt sent så når nok heller ikke det hele"
   ]
  },
  {
   "cell_type": "markdown",
   "metadata": {},
   "source": [
    "## 03 Solution part 1"
   ]
  },
  {
   "cell_type": "code",
   "execution_count": 1,
   "metadata": {},
   "outputs": [],
   "source": [
    "import random\n",
    "import csv"
   ]
  },
  {
   "cell_type": "code",
   "execution_count": 2,
   "metadata": {},
   "outputs": [],
   "source": [
    "class Student():\n",
    "\n",
    "    def __init__(self, name,gender,data_sheet,imageurl):\n",
    "        self.name = name\n",
    "        self.gender = gender\n",
    "        self.data_sheet = data_sheet\n",
    "        self.imageurl = imageurl\n",
    "\n",
    "    def get_average_grade(self):\n",
    "        result = 0\n",
    "        grades = self.data_sheet.get_grades_as_list()\n",
    "        for grade in grades:\n",
    "            result += grade\n",
    "        result /= len(grades)\n",
    "        return result"
   ]
  },
  {
   "cell_type": "code",
   "execution_count": 3,
   "metadata": {},
   "outputs": [],
   "source": [
    "class DataSheet():\n",
    "\n",
    "    def __init__(self, course=[]):\n",
    "        self.course = course\n",
    "\n",
    "    \n",
    "    def get_grades_as_list(self):\n",
    "        grades = []\n",
    "        for course in self.course:\n",
    "            grades.append(course.grade)\n",
    "        return grades"
   ]
  },
  {
   "cell_type": "code",
   "execution_count": 4,
   "metadata": {},
   "outputs": [],
   "source": [
    "class Course():\n",
    "\n",
    "    def __init__(self, name, classroom, teacher, etcs, grade=None):\n",
    "        self.name = name\n",
    "        self.classroom = classroom\n",
    "        self.teacher = teacher\n",
    "        self.etcs = etcs\n",
    "        self.grade = grade"
   ]
  },
  {
   "cell_type": "code",
   "execution_count": 12,
   "metadata": {},
   "outputs": [],
   "source": [
    "def make_random_student():\n",
    "    student_courses = []\n",
    "    student_teachers = []\n",
    "    student_classrooms = []\n",
    "    student_etcs = []\n",
    "    student_grades = []\n",
    "    \n",
    "    random_names = ['Mads Kristensen', 'Albert Sylvester', 'Marc Ekstrom', 'Marcus Jensen']\n",
    "    random_gender = ['Male', 'Female', 'Other :^)']\n",
    "    random_grade = [-3, 0, 2, 4, 7, 10, 12]\n",
    "    random_course = [Course(\"Dansk\", \"167\", \"Lene\", 10, random.choice(random_grade)), \n",
    "                      Course(\"Mat\", \"66\", \"Andreas\", 15, random.choice(random_grade)), \n",
    "                      Course(\"Engelsk\", \"69\", \"Hans\", 35, random.choice(random_grade))]\n",
    "    image_url = ['https://i.pinimg.com/originals/bd/1d/30/bd1d30f93fb112317b2e5b06e825ce5e.jpg', \n",
    "                        'https://i.pinimg.com/originals/aa/79/a4/aa79a42e5b71950b3db4b165581fecd7.jpg', \n",
    "                        'https://i.pinimg.com/originals/a6/15/c7/a615c752251343beca8eff099caf103e.jpg', \n",
    "                        'https://i.pinimg.com/originals/cc/e8/0b/cce80b7f7100b7ba3aa6f1615eceff30.jpg']\n",
    "    \n",
    "    random_student = Student(random.choice(random_names), random.choice(random_gender), DataSheet([random.choice(random_course), random.choice(random_course)]), random.choice(image_url))\n",
    "    \n",
    "    \n",
    "    for course in random_student.data_sheet.course:\n",
    "        student_courses.append(course.name)\n",
    "        student_teachers.append(course.teacher)\n",
    "        student_classrooms.append(course.classroom)\n",
    "        student_etcs.append(course.etcs)\n",
    "        student_grades.append(course.grade)\n",
    "    \n",
    "    \n",
    "    with open('output_data/student.csv', 'a') as file:\n",
    "        csv_writer = csv.writer(file, delimiter=',')\n",
    "        csv_writer.writerow((random_student.name, student_courses, student_teachers, student_classrooms, student_etcs, student_grades, random_student.imageurl))\n",
    "    \n",
    "    return random_student"
   ]
  },
  {
   "cell_type": "code",
   "execution_count": 15,
   "metadata": {},
   "outputs": [
    {
     "data": {
      "text/plain": [
       "<__main__.Student at 0x7f17e040ae90>"
      ]
     },
     "execution_count": 15,
     "metadata": {},
     "output_type": "execute_result"
    }
   ],
   "source": [
    "# inde i mappen output_data er der en fil student.csv hvor den tilfældige person bliver lagt ind\n",
    "make_random_student()"
   ]
  }
 ],
 "metadata": {
  "kernelspec": {
   "display_name": "Python 3",
   "language": "python",
   "name": "python3"
  },
  "language_info": {
   "codemirror_mode": {
    "name": "ipython",
    "version": 3
   },
   "file_extension": ".py",
   "mimetype": "text/x-python",
   "name": "python",
   "nbconvert_exporter": "python",
   "pygments_lexer": "ipython3",
   "version": "3.7.6"
  }
 },
 "nbformat": 4,
 "nbformat_minor": 4
}
