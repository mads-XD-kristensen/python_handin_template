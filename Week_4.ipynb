{
 "cells": [
  {
   "cell_type": "markdown",
   "metadata": {},
   "source": [
    "# Week 3 handin"
   ]
  },
  {
   "cell_type": "markdown",
   "metadata": {},
   "source": [
    "## 01 Assignment\n",
    "# Week 4 Exercise with Numpy\n",
    "\n",
    "Use only numpy (not pandas) in these exercises\n",
    "#### Exercise 1\n",
    "1. Open the file './data/befkbhalderstatkode.csv'\n",
    "2. Turn the csv file into a numpy ndarray with `np.genfromtxt(filename, delimiter=',', dtype=np.uint, skip_header=1)`\n",
    "3. Using this data:\n",
    "```python\n",
    "neighb = {1: 'Indre By', 2: 'Østerbro', 3: 'Nørrebro', 4: 'Vesterbro/Kgs. Enghave', \n",
    "          5: 'Valby', 6: 'Vanløse', 7: 'Brønshøj-Husum', 8: 'Bispebjerg', 9: 'Amager Øst', \n",
    "          10: 'Amager Vest', 99: 'Udenfor'}\n",
    "```\n",
    "Find out how many people lived in each of the 11 areas in 2015\n",
    "4. Make a bar plot to show the size of each city area from the smallest to the largest\n",
    "5. Create a boolean mask to find out how many people above 65 years lived in Copenhagen in 2015\n",
    "6. How many of those were from the other nordic countries (not dk)\n",
    "7. Make a line plot showing the changes of number of people in vesterbro and østerbro from 1992 to 2015\n",
    "\n",
    "#### Exercise 2  A bit harder (Extra only if you have the time)\n",
    "\n",
    "1. From \"Danmarks Statistik\" download demographic data here:\n",
    "https://api.statbank.dk/v1/data/FOLK1A/CSV?valuePresentation=Code&delimiter=Semicolon&OMR%C3%85DE=000%2C084%2C147%2C400%2C085%2C083%2C082%2C081%2C851%2C461%2C561%2C751&K%C3%98N=1%2C2&ALDER=0%2C1%2C2%2C3%2C4%2C5%2C6%2C7%2C8%2C9%2C10%2C11%2C12%2C13%2C14%2C15%2C16%2C17%2C18%2C19%2C20%2C21%2C22%2C23%2C24%2C25%2C26%2C27%2C28%2C29%2C30%2C31%2C32%2C33%2C34%2C35%2C36%2C37%2C3%2C39%2C40%2C41%2C42%2C43%2C44%2C45%2C46%2C47%2C48%2C49%2C50%2C51%2C52%2C53%2C54%2C55%2C56%2C57%2C58%2C59%2C60%2C61%2C62%2C63%2C64%2C65%2C66%2C67%2C68%2C69%2C70%2C71%2C72%2C73%2C74%2C75%2C76%2C77%2C78%2C79%2C80%2C81%2C82%2C83%2C84%2C85%2C86%2C87%2C88%2C89%2C90%2C91%2C92%2C93%2C94%2C95%2C96%2C97%2C98%2C99%2C100&Tid=2008K1%2C2009K1%2C2010K1%2C2011K1%2C2012K1%2C2013K1%2C2014K1%2C2015K1%2C2016K1%2C2017K1%2C2018K1%2C2019K1%2C2020K1\n",
    "\n",
    "\n",
    "2. clean up the data so it only contains numbers. (If you find this hard to do then Pandas can help (we will cover it next week)\n",
    "```python\n",
    "import pandas as pd \n",
    "url = 'url from above here'\n",
    "df = pd.read_csv(url,sep=';')\n",
    "df['TID'] = df['TID'].map(lambda x:x[:-2]) #cut the last 2 characters\n",
    "df.to_csv('demografic_cleaned.csv',header=False, index=False)\n",
    "```\n",
    "Now you have csv data with columns: OMRÅDE;KØN;ALDER;TID;INDHOLD\n",
    "3. Now load your demographic data with numpy. (Hint: use np.loadtxt() with dtype and delimiter).\n",
    "4. Use file: BY_KODER_demographics.csv to get cities from the city codes\n",
    "5. Now find out which city in 2020 has the highest percentage of men (gender code 1),(Hint: create a function to return summed up data by city code ala: def summed_by_city(city_code): returning pct_male \n",
    "6. Create a line chart with 5 lines showing population changes in the 5 largest cities from 2008 to 2020\n"
   ]
  },
  {
   "cell_type": "markdown",
   "metadata": {},
   "source": [
    "## 02 Status\n",
    "Exercise 1 er lavet helt færdig :D"
   ]
  },
  {
   "cell_type": "markdown",
   "metadata": {},
   "source": [
    "## 03 Solution part 1"
   ]
  },
  {
   "cell_type": "code",
   "execution_count": 1,
   "metadata": {},
   "outputs": [],
   "source": [
    "import numpy as np\n",
    "import matplotlib.pyplot as plt\n"
   ]
  },
  {
   "cell_type": "code",
   "execution_count": 20,
   "metadata": {},
   "outputs": [
    {
     "name": "stdout",
     "output_type": "stream",
     "text": [
      "[['51937' 'Indre By']\n",
      " ['75113' 'Østerbro']\n",
      " ['78802' 'Nørrebro']\n",
      " ['61623' 'Vesterbro/Kgs. Enghave']\n",
      " ['51727' 'Valby']\n",
      " ['39537' 'Vanløse']\n",
      " ['43908' 'Brønshøj-Husum']\n",
      " ['53604' 'Bispebjerg']\n",
      " ['55205' 'Amager Øst']\n",
      " ['64967' 'Amager Vest']\n",
      " ['3872' 'Udenfor']]\n"
     ]
    }
   ],
   "source": [
    "#opg 1 og 2\n",
    "file = '../data/befkbhalderstatkode.csv'\n",
    "stats = np.genfromtxt(file, delimiter=',', dtype=np.uint, skip_header=1)\n",
    "areas = [1,2,3,4,5,6,7,8,9,10,99]\n",
    "mask_år = (stats[:,0] == 2015)\n",
    "\n",
    "neighb = {1: 'Indre By', 2: 'Østerbro', 3: 'Nørrebro', 4: 'Vesterbro/Kgs. Enghave', \n",
    "       5: 'Valby', 6: 'Vanløse', 7: 'Brønshøj-Husum', 8: 'Bispebjerg', 9: 'Amager Øst', \n",
    "       10: 'Amager Vest', 99: 'Udenfor'}\n",
    "\n",
    "def number_of_people_per_neighbourhood(n, mask):\n",
    "    all_people_in_given_n = stats[mask & (stats[:,1] == n)]\n",
    "    sum_of_people = all_people_in_given_n[:,4].sum() # index 4 is no of 'PERSONER'\n",
    "    return sum_of_people\n",
    "\n",
    "sum_indbyggere = np.array([(number_of_people_per_neighbourhood(n, mask_år),neighb[n]) for n in neighb])\n",
    "print(sum_indbyggere)"
   ]
  },
  {
   "cell_type": "code",
   "execution_count": 60,
   "metadata": {},
   "outputs": [
    {
     "name": "stdout",
     "output_type": "stream",
     "text": [
      "[['3872' 'Udenfor']\n",
      " ['39537' 'Vanløse']\n",
      " ['43908' 'Brønshøj-Husum']\n",
      " ['51727' 'Valby']\n",
      " ['51937' 'Indre By']\n",
      " ['53604' 'Bispebjerg']\n",
      " ['55205' 'Amager Øst']\n",
      " ['61623' 'Vesterbro/Kgs. Enghave']\n",
      " ['64967' 'Amager Vest']\n",
      " ['75113' 'Østerbro']\n",
      " ['78802' 'Nørrebro']]\n"
     ]
    },
    {
     "data": {
      "text/plain": [
       "<BarContainer object of 11 artists>"
      ]
     },
     "execution_count": 60,
     "metadata": {},
     "output_type": "execute_result"
    },
    {
     "data": {
      "image/png": "[encoded data removed]",
      "text/plain": [
       "<Figure size 1440x720 with 1 Axes>"
      ]
     },
     "metadata": {
      "needs_background": "light"
     },
     "output_type": "display_data"
    }
   ],
   "source": [
    "# opg 3 og 4\n",
    "sort_sum_indbyggere = sum_indbyggere[sum_indbyggere[:,0].argsort()]\n",
    "print(sort_sum_indbyggere)\n",
    "plt.figure(figsize=(20,10))\n",
    "plt.bar(sort_sum_indbyggere[:,1],sort_sum_indbyggere[:,0])"
   ]
  },
  {
   "cell_type": "code",
   "execution_count": 37,
   "metadata": {},
   "outputs": [
    {
     "name": "stdout",
     "output_type": "stream",
     "text": [
      "sum of all ppl above 65 in kbh in 2015: 59859\n"
     ]
    }
   ],
   "source": [
    "#opg 5\n",
    "mask_above_65_in_2015 = (stats[:,0] == 2015) &(stats[:,2] >= 65)\n",
    "\n",
    "print(\"sum of all ppl above 65 in kbh in 2015:\", np.sum(stats[mask_above_65_in_2015][:,4]))"
   ]
  },
  {
   "cell_type": "code",
   "execution_count": 59,
   "metadata": {},
   "outputs": [
    {
     "name": "stdout",
     "output_type": "stream",
     "text": [
      "sum of all ppl above 65 in kbh in 2015 not danish: 614\n"
     ]
    }
   ],
   "source": [
    "#opg 6\n",
    "mask_swedish = (stats[:,0] == 2015) &(stats[:,2] >= 65) & (stats[:,3]==5120)\n",
    "swe_sum = np.sum(stats[mask_swedish][:,4])\n",
    "\n",
    "mask_norw = (stats[:,0] == 2015) &(stats[:,2] >= 65) & (stats[:,3]==5110)\n",
    "norw_sum = np.sum(stats[mask_norw][:,4])\n",
    "\n",
    "mask_fin = (stats[:,0] == 2015) &(stats[:,2] >= 65) & (stats[:,3]==5104)\n",
    "fin_sum = np.sum(stats[mask_fin][:,4])\n",
    "\n",
    "above_65_in_2015_not_danish = swe_sum + norw_sum + fin_sum\n",
    "\n",
    "print(\"sum of all ppl above 65 in kbh in 2015 not danish:\", above_65_in_2015_not_danish)"
   ]
  },
  {
   "cell_type": "code",
   "execution_count": 127,
   "metadata": {},
   "outputs": [
    {
     "name": "stderr",
     "output_type": "stream",
     "text": [
      "/opt/conda/lib/python3.7/site-packages/ipykernel_launcher.py:12: UserWarning: Legend does not support [<matplotlib.lines.Line2D object at 0x7f65b7be6d10>] instances.\n",
      "A proxy artist may be used instead.\n",
      "See: http://matplotlib.org/users/legend_guide.html#creating-artists-specifically-for-adding-to-the-legend-aka-proxy-artists\n",
      "  if sys.path[0] == '':\n",
      "/opt/conda/lib/python3.7/site-packages/ipykernel_launcher.py:12: UserWarning: Legend does not support [<matplotlib.lines.Line2D object at 0x7f65b7bf5290>] instances.\n",
      "A proxy artist may be used instead.\n",
      "See: http://matplotlib.org/users/legend_guide.html#creating-artists-specifically-for-adding-to-the-legend-aka-proxy-artists\n",
      "  if sys.path[0] == '':\n"
     ]
    },
    {
     "data": {
      "text/plain": [
       "<matplotlib.legend.Legend at 0x7f65b7be6ad0>"
      ]
     },
     "execution_count": 127,
     "metadata": {},
     "output_type": "execute_result"
    },
    {
     "data": {
      "image/png": "[encoded data removed]",
      "text/plain": [
       "<Figure size 432x288 with 1 Axes>"
      ]
     },
     "metadata": {
      "needs_background": "light"
     },
     "output_type": "display_data"
    }
   ],
   "source": [
    "#opg 7\n",
    "år = np.arange(1992,2015+1)\n",
    "\n",
    "østerbro = dict((n, np.sum(stats[(stats[:,0] == n) & (stats[:,1]==2)][:,4])) for n in år)\n",
    "\n",
    "\n",
    "vesterbro = dict((n, np.sum(stats[(stats[:,0] == n) & (stats[:,1]==4)][:,4])) for n in år)\n",
    "print()\n",
    "\n",
    "p1 = plt.plot(list(østerbro.keys()), list(østerbro.values()), color = 'blue') \n",
    "p2 = plt.plot(list(vesterbro.keys()), list(vesterbro.values()), color = 'green') \n",
    "plt.legend([p1,p2],['Østerbro','Vesterbro'],loc=1)"
   ]
  }
 ],
 "metadata": {
  "kernelspec": {
   "display_name": "Python 3",
   "language": "python",
   "name": "python3"
  },
  "language_info": {
   "codemirror_mode": {
    "name": "ipython",
    "version": 3
   },
   "file_extension": ".py",
   "mimetype": "text/x-python",
   "name": "python",
   "nbconvert_exporter": "python",
   "pygments_lexer": "ipython3",
   "version": "3.7.6"
  }
 },
 "nbformat": 4,
 "nbformat_minor": 4
}
